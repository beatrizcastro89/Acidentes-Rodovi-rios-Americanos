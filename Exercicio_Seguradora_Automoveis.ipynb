{
 "cells": [
  {
   "cell_type": "markdown",
   "metadata": {},
   "source": [
    "# Seguradora de Automóveis Tera S.A."
   ]
  },
  {
   "cell_type": "markdown",
   "metadata": {},
   "source": [
    "Você acaba de ser contratado como cientista de dados para a Seguradora de Automóveis Tera S.A. e está encubido de auxiliar a equipe atuarial a determinar melhorias na tabela atualmente praticada nos seguros de automóveis nos Estados Unidos. Diversos estudos relativos a demografia foram feitos e incorporados na tabela atual, restando apenas analisar região a região quais as possíveis economias.\n",
    "\n",
    "Para isso, <b>você deve utilizar os dados de acidentes rodoviários dos Estados Unidos do período de fevereiro de 2016 a dezembro de 2019 para dar insumos proveitosos para a equipe atuarial</b>. Além disso, também é esperado que você apresente suas descobertas para a diretoria de vendas, pois as alterações na tabela resultarão em uma mudança no plano de negócios atual. Portanto, <b>determine a melhor forma de apresentar graficamente o que realmente irá convencer a diretoria de que as mudanças na tabela atuarial irão resultar em ganhos financeiros para a empresa como um todo.</b>"
   ]
  },
  {
   "cell_type": "markdown",
   "metadata": {},
   "source": [
    "# Tratativa da base"
   ]
  },
  {
   "cell_type": "markdown",
   "metadata": {},
   "source": [
    "Antes de começar a ter qualquer insight, será necessário limpar a base que será trabalhada. Para isso, é necessário importar as bibliotecas que serão utilizadas e o arquivo do dataset."
   ]
  },
  {
   "cell_type": "code",
   "execution_count": 1,
   "metadata": {},
   "outputs": [],
   "source": [
    "# importando todas as bibliotecas importantes para cálculo e criação de visualização gráfica\n",
    "\n",
    "\n",
    "\n",
    "# o %matplotlib inline é um comando que faz com que os gráficos abram no mesmo notebook que estamos trabalhando\n",
    "\n",
    "\n",
    "\n",
    "\n",
    "# importando o arquivo em si, usando encoding utf-8 (como é um arquivo americano cobre todos os caracteres), em seguida vemos\n",
    "# um .head() para ver se a exportação de fato foi correta\n",
    "\n"
   ]
  },
  {
   "cell_type": "markdown",
   "metadata": {},
   "source": [
    "Como o arquivo é muito grande, vamos reduzí-lo para 100.000 linhas"
   ]
  },
  {
   "cell_type": "code",
   "execution_count": 2,
   "metadata": {},
   "outputs": [],
   "source": [
    "# utilizando as 100.000 primeiras linhas do arquivo (é possível utilizar as 100.000 últimas também)\n",
    "\n",
    "\n"
   ]
  },
  {
   "cell_type": "markdown",
   "metadata": {},
   "source": [
    "Garanta que não existam linhas duplicadas no seu dataset, isso pode enviesar sua análise no final."
   ]
  },
  {
   "cell_type": "code",
   "execution_count": 3,
   "metadata": {},
   "outputs": [],
   "source": [
    "# verificando a quantidade de linhas e colunas antes de remover as duplicatas\n"
   ]
  },
  {
   "cell_type": "code",
   "execution_count": 4,
   "metadata": {},
   "outputs": [],
   "source": [
    "# removendo as duplicatas e verificando quantas linhas e colunas restaram\n",
    "# neste caso não houve nenhuma duplicata :)\n",
    "\n",
    "\n"
   ]
  },
  {
   "cell_type": "markdown",
   "metadata": {},
   "source": [
    "Vamos trocar a nomenclatura das colunas para deixar a interpretação mais fácil tanto para a equipe atuarial quanto para a equipe de vendas."
   ]
  },
  {
   "cell_type": "code",
   "execution_count": 5,
   "metadata": {},
   "outputs": [],
   "source": [
    "# primeiramente ver o nome de todas as colunas e as informações que elas trazem\n",
    "\n"
   ]
  },
  {
   "cell_type": "code",
   "execution_count": 6,
   "metadata": {},
   "outputs": [],
   "source": [
    "#após trocar o nome de colunas confusas e dúbias, é importante usar o info novamente para ver se a aplicação foi bem sucedida\n",
    "\n",
    "\n"
   ]
  },
  {
   "cell_type": "markdown",
   "metadata": {},
   "source": [
    "Tratar as células que contém data, para garantir que estão no formato de data legível pelo Python"
   ]
  },
  {
   "cell_type": "code",
   "execution_count": 7,
   "metadata": {},
   "outputs": [],
   "source": [
    "# fórmulas para tratar as colulas Start_Time e End_Time\n",
    "\n",
    "\n",
    "\n"
   ]
  },
  {
   "cell_type": "code",
   "execution_count": 8,
   "metadata": {},
   "outputs": [],
   "source": [
    "# validação se as variáveis estão em formato de data\n",
    "\n"
   ]
  },
  {
   "cell_type": "markdown",
   "metadata": {},
   "source": [
    "Vamos verificar em quais colunas há valores nulos e se há a necessidade de preenchê-los"
   ]
  },
  {
   "cell_type": "code",
   "execution_count": 9,
   "metadata": {},
   "outputs": [],
   "source": [
    "# soma todos os valores nulos por coluna\n",
    "\n"
   ]
  },
  {
   "cell_type": "markdown",
   "metadata": {},
   "source": [
    "Podemos ver que temos muitas variáveis que possuem valor nulo. Abaixo seguem listadas quais são elas e como elas devem ser tratadas quando nulas.<br>\n",
    "<ul>\n",
    "    <li>End Lat - preencher com \"N/A\"</li>\n",
    "    <li>End Lng - preencher com \"N/A\"</li>\n",
    "    <li>Street_Number - preencher com \"N/A\"</li>\n",
    "    <li>City - preencher com \"N/A\"</li>\n",
    "    <li>Sunrise_Sunset - preencher com \"N/A\"</li>\n",
    "    <li>Civil_Twilight - preencher com \"N/A\"</li>\n",
    "    <li>Nautical_Twilight - preencher com \"N/A\"</li>\n",
    "    <li>Astronomical_Twilight - preencher com \"N/A\"</li>\n",
    "    <li>Timezone - preencher com \"N/A\"</li>\n",
    "    <li>Airport Code - preencher com \"N/A\"</li>\n",
    "    <li>Weather Timestamp - preencher com \"N/A\"</li>\n",
    "    <li>Wind_Direction - preencher com \"N/A\"</li>\n",
    "    <li>Weather_Condition - preencher com \"N/A\"</li>\n",
    "    <li>Traffic_Message_Channel - preencher com o valor 999 ou com o valor 0</li>\n",
    "    <li>Zipcode - preencher com 99999</li>\n",
    "    <li>Temperature (F) - preencher com 999</li>\n",
    "    <li>Wind_Chill(F) - preencher com 999</li>\n",
    "    <li>Humidity(%) - preencher com 0</li>\n",
    "    <li>Pressure(in) - preencher com 0</li>\n",
    "    <li>Visibility(mi) - preencher com 0</li>\n",
    "    <li>Wind_Speed(mph) - preencher com 0</li>\n",
    "    <li>Precipitation(in) - preencher com 0</li>\n",
    "</ul>"
   ]
  },
  {
   "cell_type": "code",
   "execution_count": 10,
   "metadata": {},
   "outputs": [],
   "source": [
    "# preenchendo End Lat, End Lng, Street_Number, City, Sunrise_Sunset, Civil_Twilight e Astronomical_Twilight com \"N/A\"\n",
    "\n",
    "\n",
    "\n",
    "\n",
    "\n",
    "\n",
    "\n",
    "\n",
    "\n",
    "\n",
    "\n",
    "\n",
    "\n",
    "\n",
    "\n",
    "# preenchendo a coluna Traffic_Message_Channel\n",
    "\n",
    "\n",
    "\n",
    "# preenchendo Zipcode com 99999\n",
    "\n",
    "\n",
    "\n",
    "# preenchendo Temperature(F) e Wind Chill(F) com 999\n",
    "\n",
    "\n",
    "\n",
    "\n",
    "# preenchendo Humidity, Pressure, Visibility, Wind Speed e Precipitation com 0\n",
    "\n",
    "\n",
    "\n",
    "\n",
    "\n"
   ]
  },
  {
   "cell_type": "code",
   "execution_count": 11,
   "metadata": {},
   "outputs": [],
   "source": [
    "# validando se todos os campos estão preenchidos\n",
    "\n"
   ]
  },
  {
   "cell_type": "markdown",
   "metadata": {},
   "source": [
    "Agora que toda a base está tratada, vamos observar alguns dados gerais antes de começar nossas análises de fato? Vamos começar olhando dados estatísticos gerais da base."
   ]
  },
  {
   "cell_type": "code",
   "execution_count": 12,
   "metadata": {},
   "outputs": [],
   "source": [
    "# observar dados estatísticos da base\n",
    "\n"
   ]
  },
  {
   "cell_type": "markdown",
   "metadata": {},
   "source": [
    "# Análises auxiliares para equipe atuarial"
   ]
  },
  {
   "cell_type": "markdown",
   "metadata": {},
   "source": [
    "Algumas sugestões de relações que podem impactar no estudo atuarial por região:<br>\n",
    "<br>\n",
    "<ul>\n",
    "    <li>Severidade do acidente versus região</li>\n",
    "    <li>Severidade do acidente versus região versus horário do dia (manhã/noite)</li>\n",
    "    <li>Severidade do acidente versus temperatura versus precipitação</li>\n",
    "    <li>Quantidade de acidentes por severidade por região</li>\n",
    "</ul>"
   ]
  },
  {
   "cell_type": "markdown",
   "metadata": {},
   "source": [
    "Análise de Severidade de Acidente por Região"
   ]
  },
  {
   "cell_type": "code",
   "execution_count": 13,
   "metadata": {},
   "outputs": [],
   "source": [
    "# análise de severidade de acidente por região\n",
    "\n",
    "\n"
   ]
  },
  {
   "cell_type": "code",
   "execution_count": 14,
   "metadata": {
    "scrolled": true
   },
   "outputs": [],
   "source": [
    "# análise gráfica interativa\n",
    "\n",
    "\n"
   ]
  },
  {
   "cell_type": "markdown",
   "metadata": {},
   "source": [
    "Análise da Severidade do Acidente Versus Região Versus Horário do Dia"
   ]
  },
  {
   "cell_type": "code",
   "execution_count": 15,
   "metadata": {},
   "outputs": [],
   "source": [
    "# análise de severidade do acidente versus região versus horário do dia (manhã/noite)\n",
    "\n",
    "\n"
   ]
  },
  {
   "cell_type": "code",
   "execution_count": 16,
   "metadata": {},
   "outputs": [],
   "source": [
    "# gráfico scatterplot interativo\n",
    "\n",
    "\n"
   ]
  },
  {
   "cell_type": "markdown",
   "metadata": {},
   "source": [
    "Análise de Severidade do Acidente Versus Temperatura Versus Precipitação"
   ]
  },
  {
   "cell_type": "code",
   "execution_count": 17,
   "metadata": {},
   "outputs": [],
   "source": [
    "# análise de severidade do acidente versus temperatura versus precipitação\n",
    "\n",
    "\n"
   ]
  },
  {
   "cell_type": "code",
   "execution_count": 18,
   "metadata": {},
   "outputs": [],
   "source": [
    "#análise de lmplot\n",
    "\n"
   ]
  },
  {
   "cell_type": "markdown",
   "metadata": {},
   "source": [
    "Análise de Quantidade de Acidentes por Severidade por Região"
   ]
  },
  {
   "cell_type": "code",
   "execution_count": 19,
   "metadata": {},
   "outputs": [],
   "source": [
    "# análise de quantidade de acidentes por severidade por região\n",
    "\n",
    "\n",
    "\n"
   ]
  },
  {
   "cell_type": "code",
   "execution_count": 20,
   "metadata": {},
   "outputs": [],
   "source": [
    "# gráfico de barras agrupadas\n",
    "\n",
    "\n"
   ]
  }
 ],
 "metadata": {
  "kernelspec": {
   "display_name": "Python 3",
   "language": "python",
   "name": "python3"
  },
  "language_info": {
   "codemirror_mode": {
    "name": "ipython",
    "version": 3
   },
   "file_extension": ".py",
   "mimetype": "text/x-python",
   "name": "python",
   "nbconvert_exporter": "python",
   "pygments_lexer": "ipython3",
   "version": "3.7.6"
  }
 },
 "nbformat": 4,
 "nbformat_minor": 4
}
